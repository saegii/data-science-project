{
 "cells": [
  {
   "cell_type": "markdown",
   "source": [
    "# Data Augmentation Pipeline\n",
    "\n",
    "Done with albumentations library."
   ],
   "metadata": {
    "collapsed": false
   },
   "id": "b40fcc7364e6c0c0"
  },
  {
   "cell_type": "markdown",
   "source": [
    "## Imports and Directories"
   ],
   "metadata": {
    "collapsed": false
   },
   "id": "b38c323171a98f23"
  },
  {
   "cell_type": "code",
   "execution_count": 48,
   "id": "initial_id",
   "metadata": {
    "collapsed": true,
    "ExecuteTime": {
     "end_time": "2025-10-24T12:52:19.899482Z",
     "start_time": "2025-10-24T12:52:19.893376Z"
    }
   },
   "outputs": [],
   "source": [
    "import albumentations as A\n",
    "import cv2\n",
    "from pathlib import Path\n",
    "\n",
    "src = Path(\"../data/source-images\")\n",
    "dst = Path(\"../data/augmented-images\")\n",
    "dst.mkdir(exist_ok=True, parents=True)"
   ]
  },
  {
   "cell_type": "markdown",
   "source": [
    "## Compose Transform"
   ],
   "metadata": {
    "collapsed": false
   },
   "id": "89dc367377027501"
  },
  {
   "cell_type": "code",
   "execution_count": 49,
   "outputs": [],
   "source": [
    "transform = A.Compose([\n",
    "    A.RandomResizedCrop(size=(1440, 1080), scale=(0.8, 1.0), ratio=(0.75, 1.33), p=1.0),\n",
    "    A.HorizontalFlip(p=0.5),\n",
    "    A.ShiftScaleRotate(\n",
    "        shift_limit=0.15,\n",
    "        scale_limit=0.2,\n",
    "        rotate_limit=25,\n",
    "        border_mode=0,\n",
    "        p=0.9\n",
    "    ),\n",
    "])"
   ],
   "metadata": {
    "collapsed": false,
    "ExecuteTime": {
     "end_time": "2025-10-24T12:52:19.909688Z",
     "start_time": "2025-10-24T12:52:19.898804Z"
    }
   },
   "id": "b51746abc9e2eb3e"
  },
  {
   "cell_type": "markdown",
   "source": [
    "## Augment Images"
   ],
   "metadata": {
    "collapsed": false
   },
   "id": "7a41523dff9711ca"
  },
  {
   "cell_type": "code",
   "execution_count": 50,
   "outputs": [
    {
     "name": "stdout",
     "output_type": "stream",
     "text": [
      "0salad-bowl.png\n",
      "1salad-bowl.png\n",
      "2salad-bowl.png\n",
      "3salad-bowl.png\n",
      "4salad-bowl.png\n",
      "5salad-bowl.png\n",
      "6salad-bowl.png\n",
      "7salad-bowl.png\n",
      "8salad-bowl.png\n",
      "9salad-bowl.png\n"
     ]
    }
   ],
   "source": [
    "for i in range(10):\n",
    "    for img_path in src.glob(\"*.*\"):\n",
    "        image = cv2.imread(str(img_path))\n",
    "        image = cv2.cvtColor(image, cv2.COLOR_BGR2RGB)\n",
    "        \n",
    "        augmented = transform(image=image)\n",
    "        aug_img = augmented[\"image\"]\n",
    "    \n",
    "        image_name = str(i) + img_path.name\n",
    "        print(image_name)\n",
    "        save_path = dst / image_name\n",
    "        cv2.imwrite(str(save_path), cv2.cvtColor(aug_img, cv2.COLOR_RGB2BGR))"
   ],
   "metadata": {
    "collapsed": false,
    "ExecuteTime": {
     "end_time": "2025-10-24T12:52:20.675217Z",
     "start_time": "2025-10-24T12:52:19.904189Z"
    }
   },
   "id": "359f580662af22ed"
  }
 ],
 "metadata": {
  "kernelspec": {
   "display_name": "Python 3",
   "language": "python",
   "name": "python3"
  },
  "language_info": {
   "codemirror_mode": {
    "name": "ipython",
    "version": 2
   },
   "file_extension": ".py",
   "mimetype": "text/x-python",
   "name": "python",
   "nbconvert_exporter": "python",
   "pygments_lexer": "ipython2",
   "version": "2.7.6"
  }
 },
 "nbformat": 4,
 "nbformat_minor": 5
}
