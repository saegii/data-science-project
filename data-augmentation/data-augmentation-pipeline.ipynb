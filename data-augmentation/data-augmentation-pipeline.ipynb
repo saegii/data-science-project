{
 "cells": [
  {
   "cell_type": "markdown",
   "id": "b40fcc7364e6c0c0",
   "metadata": {},
   "source": [
    "# Data Augmentation Pipeline\n",
    "\n",
    "Done with albumentations library."
   ]
  },
  {
   "cell_type": "markdown",
   "id": "b38c323171a98f23",
   "metadata": {},
   "source": [
    "## Configuration, Imports and Directories"
   ]
  },
  {
   "cell_type": "code",
   "execution_count": 86,
   "id": "initial_id",
   "metadata": {
    "tags": [],
    "ExecuteTime": {
     "end_time": "2025-10-31T16:04:18.067801Z",
     "start_time": "2025-10-31T16:04:18.056439Z"
    }
   },
   "outputs": [
    {
     "name": "stdout",
     "output_type": "stream",
     "text": [
      "image paths: [PosixPath('../data/cow-hooves/salad-bowl.png')]\n"
     ]
    }
   ],
   "source": [
    "import albumentations as A\n",
    "import numpy as np\n",
    "import gcsfs\n",
    "import cv2\n",
    "import os\n",
    "from dotenv import load_dotenv\n",
    "from pathlib import Path\n",
    "\n",
    "load_dotenv()\n",
    "\n",
    "ENV_TYPE = os.getenv(\"ENV_TYPE\")\n",
    "LOCAL_DATA_PATH = os.getenv(\"LOCAL_DATA_PATH\")\n",
    "\n",
    "DATA_PATH = \"\" if ENV_TYPE == \"gcp\" else str(LOCAL_DATA_PATH)\n",
    "\n",
    "fs = gcsfs.GCSFileSystem()\n",
    "\n",
    "src = Path(DATA_PATH + \"cow-hooves/\")\n",
    "dst = Path(DATA_PATH + \"augmented-cow-hooves/\")\n",
    "\n",
    "img_paths = fs.ls(src) if ENV_TYPE == \"gcp\" else list(Path(src).glob(\"*.*\"))\n",
    "print(\"image paths:\", img_paths)"
   ]
  },
  {
   "cell_type": "markdown",
   "id": "89dc367377027501",
   "metadata": {},
   "source": [
    "## Compose Transform"
   ]
  },
  {
   "cell_type": "code",
   "execution_count": 87,
   "id": "b51746abc9e2eb3e",
   "metadata": {
    "collapsed": false,
    "ExecuteTime": {
     "end_time": "2025-10-31T16:04:18.068767Z",
     "start_time": "2025-10-31T16:04:18.063864Z"
    }
   },
   "outputs": [],
   "source": [
    "transform = A.Compose([\n",
    "    A.RandomResizedCrop(size=(1440, 1080), scale=(0.8, 1.0), ratio=(0.75, 1.33), p=1.0),\n",
    "    A.HorizontalFlip(p=0.5),\n",
    "    A.ShiftScaleRotate(\n",
    "        shift_limit=0.15,\n",
    "        scale_limit=0.2,\n",
    "        rotate_limit=25,\n",
    "        border_mode=0,\n",
    "        p=0.9\n",
    "    ),\n",
    "])"
   ]
  },
  {
   "cell_type": "markdown",
   "id": "7a41523dff9711ca",
   "metadata": {},
   "source": [
    "## Augment Images"
   ]
  },
  {
   "cell_type": "code",
   "execution_count": 88,
   "id": "359f580662af22ed",
   "metadata": {
    "collapsed": false,
    "tags": [],
    "ExecuteTime": {
     "end_time": "2025-10-31T16:04:18.822009Z",
     "start_time": "2025-10-31T16:04:18.070355Z"
    }
   },
   "outputs": [
    {
     "name": "stdout",
     "output_type": "stream",
     "text": [
      "../data/augmented-cow-hooves/0salad-bowl.png\n",
      "<gcsfs.core.GCSFileSystem object at 0x106ff1c90>\n",
      "saved: ../data/augmented-cow-hooves/0salad-bowl.png\n",
      "../data/augmented-cow-hooves/1salad-bowl.png\n",
      "<gcsfs.core.GCSFileSystem object at 0x106ff1c90>\n",
      "saved: ../data/augmented-cow-hooves/1salad-bowl.png\n",
      "../data/augmented-cow-hooves/2salad-bowl.png\n",
      "<gcsfs.core.GCSFileSystem object at 0x106ff1c90>\n",
      "saved: ../data/augmented-cow-hooves/2salad-bowl.png\n",
      "../data/augmented-cow-hooves/3salad-bowl.png\n",
      "<gcsfs.core.GCSFileSystem object at 0x106ff1c90>\n",
      "saved: ../data/augmented-cow-hooves/3salad-bowl.png\n",
      "../data/augmented-cow-hooves/4salad-bowl.png\n",
      "<gcsfs.core.GCSFileSystem object at 0x106ff1c90>\n",
      "saved: ../data/augmented-cow-hooves/4salad-bowl.png\n",
      "../data/augmented-cow-hooves/5salad-bowl.png\n",
      "<gcsfs.core.GCSFileSystem object at 0x106ff1c90>\n",
      "saved: ../data/augmented-cow-hooves/5salad-bowl.png\n",
      "../data/augmented-cow-hooves/6salad-bowl.png\n",
      "<gcsfs.core.GCSFileSystem object at 0x106ff1c90>\n",
      "saved: ../data/augmented-cow-hooves/6salad-bowl.png\n",
      "../data/augmented-cow-hooves/7salad-bowl.png\n",
      "<gcsfs.core.GCSFileSystem object at 0x106ff1c90>\n",
      "saved: ../data/augmented-cow-hooves/7salad-bowl.png\n",
      "../data/augmented-cow-hooves/8salad-bowl.png\n",
      "<gcsfs.core.GCSFileSystem object at 0x106ff1c90>\n",
      "saved: ../data/augmented-cow-hooves/8salad-bowl.png\n",
      "../data/augmented-cow-hooves/9salad-bowl.png\n",
      "<gcsfs.core.GCSFileSystem object at 0x106ff1c90>\n",
      "saved: ../data/augmented-cow-hooves/9salad-bowl.png\n"
     ]
    }
   ],
   "source": [
    "for i in range(10):\n",
    "    for img_path in img_paths:\n",
    "        if ENV_TYPE == 'gcp':\n",
    "            with fs.open(img_path, \"rb\") as f:\n",
    "                img_bytes = f.read()\n",
    "            image = cv2.imdecode(np.frombuffer(img_bytes, np.uint8), cv2.IMREAD_COLOR)\n",
    "        else: \n",
    "            image = cv2.imread(str(img_path))\n",
    "        image = cv2.cvtColor(image, cv2.COLOR_BGR2RGB)\n",
    "\n",
    "        augmented = transform(image=image)\n",
    "        aug_img = augmented[\"image\"]\n",
    "\n",
    "        image_name = f\"{i}_{img_path.split('/')[-1]}\" if ENV_TYPE == 'gcp' else str(i) + img_path.name\n",
    "        save_path = f\"{dst}/{image_name}\"\n",
    "        print(save_path)\n",
    "        print(fs)\n",
    "\n",
    "        success, encoded_img = cv2.imencode(\".jpg\", cv2.cvtColor(aug_img, cv2.COLOR_RGB2BGR))\n",
    "        if success:\n",
    "            if ENV_TYPE == 'gcp':\n",
    "                with fs.open(save_path, \"wb\") as f:\n",
    "                    f.write(encoded_img.tobytes())\n",
    "            else:\n",
    "                cv2.imwrite(str(save_path), cv2.cvtColor(aug_img, cv2.COLOR_RGB2BGR))\n",
    "\n",
    "        print(f\"saved: {save_path}\")"
   ]
  }
 ],
 "metadata": {
  "environment": {
   "kernel": "conda-base-py",
   "name": "workbench-notebooks.m134",
   "type": "gcloud",
   "uri": "us-docker.pkg.dev/deeplearning-platform-release/gcr.io/workbench-notebooks:m134"
  },
  "kernelspec": {
   "name": "python3",
   "language": "python",
   "display_name": "Python 3 (ipykernel)"
  },
  "language_info": {
   "codemirror_mode": {
    "name": "ipython",
    "version": 3
   },
   "file_extension": ".py",
   "mimetype": "text/x-python",
   "name": "python",
   "nbconvert_exporter": "python",
   "pygments_lexer": "ipython3",
   "version": "3.10.18"
  }
 },
 "nbformat": 4,
 "nbformat_minor": 5
}
